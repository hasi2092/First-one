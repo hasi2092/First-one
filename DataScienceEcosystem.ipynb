{
 "cells": [
  {
   "cell_type": "markdown",
   "id": "d2c27bed-d767-42eb-838a-04ec9ec7fe94",
   "metadata": {
    "tags": []
   },
   "source": [
    "# Data Science Tools and Ecosystem"
   ]
  },
  {
   "cell_type": "markdown",
   "id": "b161d005-d715-4280-af1e-3743ceeb1086",
   "metadata": {},
   "source": [
    "In this notebook, Data Science Tools and Ecosystem are summarized."
   ]
  },
  {
   "cell_type": "markdown",
   "id": "a51ea9df-fa9e-4930-87f7-57ea5d7b0caa",
   "metadata": {},
   "source": [
    "Some of the popular languages that Data Scientists use are:\n",
    "1. R\n",
    "2. Python\n",
    "3. SQL"
   ]
  },
  {
   "cell_type": "markdown",
   "id": "2785bdf2-387d-4fd2-bc1c-d3c43c441aa7",
   "metadata": {},
   "source": [
    "Some of the commonly used libraries used by Data Scientists include:\n",
    "1. Pandas\n",
    "2. Numpy\n",
    "3. Matplotlib"
   ]
  },
  {
   "cell_type": "markdown",
   "id": "aec322e0-ce4f-4585-8716-4e3cb6b7c54c",
   "metadata": {
    "tags": []
   },
   "source": [
    "|Data Science Tools| \n",
    "| ------ | \n",
    "| Jupyter Notebook |\n",
    "|R Studio |\n",
    "| Pycharm |\n",
    "\n"
   ]
  },
  {
   "cell_type": "markdown",
   "id": "624b9c2e-d946-4204-ad44-9894aab22c88",
   "metadata": {},
   "source": [
    "### Below are a few examples of evaluating arithmetic expressions in Python\n",
    "2+2=4\n"
   ]
  },
  {
   "cell_type": "code",
   "execution_count": 2,
   "id": "47980e7d-bc7b-447f-b3a3-b7e2f632b2f3",
   "metadata": {
    "tags": []
   },
   "outputs": [
    {
     "data": {
      "text/plain": [
       "17"
      ]
     },
     "execution_count": 2,
     "metadata": {},
     "output_type": "execute_result"
    }
   ],
   "source": [
    "(3*4)+5\n",
    "#This a simple arithmetic expression to mutiply then add integers."
   ]
  },
  {
   "cell_type": "code",
   "execution_count": 3,
   "id": "14219ed7-9296-4e4d-a0fc-9a209cbe0c8d",
   "metadata": {
    "tags": []
   },
   "outputs": [
    {
     "data": {
      "text/plain": [
       "3.3333333333333335"
      ]
     },
     "execution_count": 3,
     "metadata": {},
     "output_type": "execute_result"
    }
   ],
   "source": [
    "200/60\n",
    "#This will convert 200 minutes to hours by diving by 60."
   ]
  },
  {
   "cell_type": "markdown",
   "id": "90e6d500-4e13-4565-aac4-360767753a52",
   "metadata": {},
   "source": [
    "**Objectives:**\n",
    "- Python\n",
    "- R\n",
    "- SQL\n",
    "- Scala\n",
    "- Julia"
   ]
  },
  {
   "cell_type": "markdown",
   "id": "da57db38-15b9-40e1-a49e-be642b01fc6b",
   "metadata": {},
   "source": [
    "## Author\n",
    "Muhammad Hasnain"
   ]
  },
  {
   "cell_type": "code",
   "execution_count": null,
   "id": "36cd859e-f036-4e26-b7e3-4f1a3bff2192",
   "metadata": {},
   "outputs": [],
   "source": []
  }
 ],
 "metadata": {
  "kernelspec": {
   "display_name": "Python",
   "language": "python",
   "name": "conda-env-python-py"
  },
  "language_info": {
   "codemirror_mode": {
    "name": "ipython",
    "version": 3
   },
   "file_extension": ".py",
   "mimetype": "text/x-python",
   "name": "python",
   "nbconvert_exporter": "python",
   "pygments_lexer": "ipython3",
   "version": "3.7.12"
  }
 },
 "nbformat": 4,
 "nbformat_minor": 5
}
